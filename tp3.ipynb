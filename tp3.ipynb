{
 "cells": [
  {
   "cell_type": "code",
   "execution_count": 1,
   "id": "1455fb72-b6a1-4ebc-a6da-2f3d81fb0729",
   "metadata": {},
   "outputs": [
    {
     "name": "stderr",
     "output_type": "stream",
     "text": [
      "\n",
      "Attaching package: ‘dplyr’\n",
      "\n",
      "\n",
      "The following objects are masked from ‘package:stats’:\n",
      "\n",
      "    filter, lag\n",
      "\n",
      "\n",
      "The following objects are masked from ‘package:base’:\n",
      "\n",
      "    intersect, setdiff, setequal, union\n",
      "\n",
      "\n"
     ]
    }
   ],
   "source": [
    "library(readxl)\n",
    "library(ggplot2)\n",
    "library(dplyr)\n",
    "library(tidyr)"
   ]
  },
  {
   "cell_type": "code",
   "execution_count": 2,
   "id": "ec4bf8f4-cfaf-456e-86f5-6f146d4c88fd",
   "metadata": {},
   "outputs": [
    {
     "data": {
      "text/html": [
       "<table class=\"dataframe\">\n",
       "<caption>A tibble: 5 × 7</caption>\n",
       "<thead>\n",
       "\t<tr><th scope=col>Id etu</th><th scope=col>moyenne s1</th><th scope=col>moyenne s2</th><th scope=col>moyenne s3</th><th scope=col>moyenne s4</th><th scope=col>moyenne s5</th><th scope=col>moyenne s6</th></tr>\n",
       "\t<tr><th scope=col>&lt;chr&gt;</th><th scope=col>&lt;dbl&gt;</th><th scope=col>&lt;dbl&gt;</th><th scope=col>&lt;dbl&gt;</th><th scope=col>&lt;dbl&gt;</th><th scope=col>&lt;dbl&gt;</th><th scope=col>&lt;dbl&gt;</th></tr>\n",
       "</thead>\n",
       "<tbody>\n",
       "\t<tr><td>etudiant 1</td><td>10.27</td><td>11.36</td><td>10.69</td><td>12.36</td><td>11.98</td><td>12.36</td></tr>\n",
       "\t<tr><td>etudiant 2</td><td>12.24</td><td>13.36</td><td>13.25</td><td>13.66</td><td>14.69</td><td>14.98</td></tr>\n",
       "\t<tr><td>etudiant 3</td><td> 9.40</td><td>10.36</td><td>11.36</td><td>11.65</td><td>12.53</td><td>11.67</td></tr>\n",
       "\t<tr><td>etudiant 4</td><td>14.25</td><td>14.52</td><td>14.98</td><td>14.27</td><td>14.87</td><td>15.88</td></tr>\n",
       "\t<tr><td>etudiant 5</td><td>13.55</td><td>13.54</td><td>12.57</td><td>12.87</td><td>13.47</td><td>13.94</td></tr>\n",
       "</tbody>\n",
       "</table>\n"
      ],
      "text/latex": [
       "A tibble: 5 × 7\n",
       "\\begin{tabular}{lllllll}\n",
       " Id etu & moyenne s1 & moyenne s2 & moyenne s3 & moyenne s4 & moyenne s5 & moyenne s6\\\\\n",
       " <chr> & <dbl> & <dbl> & <dbl> & <dbl> & <dbl> & <dbl>\\\\\n",
       "\\hline\n",
       "\t etudiant 1 & 10.27 & 11.36 & 10.69 & 12.36 & 11.98 & 12.36\\\\\n",
       "\t etudiant 2 & 12.24 & 13.36 & 13.25 & 13.66 & 14.69 & 14.98\\\\\n",
       "\t etudiant 3 &  9.40 & 10.36 & 11.36 & 11.65 & 12.53 & 11.67\\\\\n",
       "\t etudiant 4 & 14.25 & 14.52 & 14.98 & 14.27 & 14.87 & 15.88\\\\\n",
       "\t etudiant 5 & 13.55 & 13.54 & 12.57 & 12.87 & 13.47 & 13.94\\\\\n",
       "\\end{tabular}\n"
      ],
      "text/markdown": [
       "\n",
       "A tibble: 5 × 7\n",
       "\n",
       "| Id etu &lt;chr&gt; | moyenne s1 &lt;dbl&gt; | moyenne s2 &lt;dbl&gt; | moyenne s3 &lt;dbl&gt; | moyenne s4 &lt;dbl&gt; | moyenne s5 &lt;dbl&gt; | moyenne s6 &lt;dbl&gt; |\n",
       "|---|---|---|---|---|---|---|\n",
       "| etudiant 1 | 10.27 | 11.36 | 10.69 | 12.36 | 11.98 | 12.36 |\n",
       "| etudiant 2 | 12.24 | 13.36 | 13.25 | 13.66 | 14.69 | 14.98 |\n",
       "| etudiant 3 |  9.40 | 10.36 | 11.36 | 11.65 | 12.53 | 11.67 |\n",
       "| etudiant 4 | 14.25 | 14.52 | 14.98 | 14.27 | 14.87 | 15.88 |\n",
       "| etudiant 5 | 13.55 | 13.54 | 12.57 | 12.87 | 13.47 | 13.94 |\n",
       "\n"
      ],
      "text/plain": [
       "  Id etu     moyenne s1 moyenne s2 moyenne s3 moyenne s4 moyenne s5 moyenne s6\n",
       "1 etudiant 1 10.27      11.36      10.69      12.36      11.98      12.36     \n",
       "2 etudiant 2 12.24      13.36      13.25      13.66      14.69      14.98     \n",
       "3 etudiant 3  9.40      10.36      11.36      11.65      12.53      11.67     \n",
       "4 etudiant 4 14.25      14.52      14.98      14.27      14.87      15.88     \n",
       "5 etudiant 5 13.55      13.54      12.57      12.87      13.47      13.94     "
      ]
     },
     "metadata": {},
     "output_type": "display_data"
    }
   ],
   "source": [
    "data <- read_excel(path = \"tp3.xlsx\", sheet = \"Feuil1\") # On lit les données \n",
    "# path : argument pour le chemin du fichier (ici dans le même répertoire)\n",
    "# sheet: la feuille du fichier à prendre \n",
    "# On charge les données dans la variable data\n",
    "data"
   ]
  },
  {
   "cell_type": "code",
   "execution_count": 3,
   "id": "63338c64-f397-4960-b860-ce1055e88fee",
   "metadata": {},
   "outputs": [
    {
     "data": {
      "text/html": [
       "<table class=\"dataframe\">\n",
       "<caption>A tibble: 5 × 7</caption>\n",
       "<thead>\n",
       "\t<tr><th scope=col>Id_etu</th><th scope=col>s1</th><th scope=col>s2</th><th scope=col>s3</th><th scope=col>s4</th><th scope=col>s5</th><th scope=col>s6</th></tr>\n",
       "\t<tr><th scope=col>&lt;chr&gt;</th><th scope=col>&lt;dbl&gt;</th><th scope=col>&lt;dbl&gt;</th><th scope=col>&lt;dbl&gt;</th><th scope=col>&lt;dbl&gt;</th><th scope=col>&lt;dbl&gt;</th><th scope=col>&lt;dbl&gt;</th></tr>\n",
       "</thead>\n",
       "<tbody>\n",
       "\t<tr><td>etudiant 1</td><td>10.27</td><td>11.36</td><td>10.69</td><td>12.36</td><td>11.98</td><td>12.36</td></tr>\n",
       "\t<tr><td>etudiant 2</td><td>12.24</td><td>13.36</td><td>13.25</td><td>13.66</td><td>14.69</td><td>14.98</td></tr>\n",
       "\t<tr><td>etudiant 3</td><td> 9.40</td><td>10.36</td><td>11.36</td><td>11.65</td><td>12.53</td><td>11.67</td></tr>\n",
       "\t<tr><td>etudiant 4</td><td>14.25</td><td>14.52</td><td>14.98</td><td>14.27</td><td>14.87</td><td>15.88</td></tr>\n",
       "\t<tr><td>etudiant 5</td><td>13.55</td><td>13.54</td><td>12.57</td><td>12.87</td><td>13.47</td><td>13.94</td></tr>\n",
       "</tbody>\n",
       "</table>\n"
      ],
      "text/latex": [
       "A tibble: 5 × 7\n",
       "\\begin{tabular}{lllllll}\n",
       " Id\\_etu & s1 & s2 & s3 & s4 & s5 & s6\\\\\n",
       " <chr> & <dbl> & <dbl> & <dbl> & <dbl> & <dbl> & <dbl>\\\\\n",
       "\\hline\n",
       "\t etudiant 1 & 10.27 & 11.36 & 10.69 & 12.36 & 11.98 & 12.36\\\\\n",
       "\t etudiant 2 & 12.24 & 13.36 & 13.25 & 13.66 & 14.69 & 14.98\\\\\n",
       "\t etudiant 3 &  9.40 & 10.36 & 11.36 & 11.65 & 12.53 & 11.67\\\\\n",
       "\t etudiant 4 & 14.25 & 14.52 & 14.98 & 14.27 & 14.87 & 15.88\\\\\n",
       "\t etudiant 5 & 13.55 & 13.54 & 12.57 & 12.87 & 13.47 & 13.94\\\\\n",
       "\\end{tabular}\n"
      ],
      "text/markdown": [
       "\n",
       "A tibble: 5 × 7\n",
       "\n",
       "| Id_etu &lt;chr&gt; | s1 &lt;dbl&gt; | s2 &lt;dbl&gt; | s3 &lt;dbl&gt; | s4 &lt;dbl&gt; | s5 &lt;dbl&gt; | s6 &lt;dbl&gt; |\n",
       "|---|---|---|---|---|---|---|\n",
       "| etudiant 1 | 10.27 | 11.36 | 10.69 | 12.36 | 11.98 | 12.36 |\n",
       "| etudiant 2 | 12.24 | 13.36 | 13.25 | 13.66 | 14.69 | 14.98 |\n",
       "| etudiant 3 |  9.40 | 10.36 | 11.36 | 11.65 | 12.53 | 11.67 |\n",
       "| etudiant 4 | 14.25 | 14.52 | 14.98 | 14.27 | 14.87 | 15.88 |\n",
       "| etudiant 5 | 13.55 | 13.54 | 12.57 | 12.87 | 13.47 | 13.94 |\n",
       "\n"
      ],
      "text/plain": [
       "  Id_etu     s1    s2    s3    s4    s5    s6   \n",
       "1 etudiant 1 10.27 11.36 10.69 12.36 11.98 12.36\n",
       "2 etudiant 2 12.24 13.36 13.25 13.66 14.69 14.98\n",
       "3 etudiant 3  9.40 10.36 11.36 11.65 12.53 11.67\n",
       "4 etudiant 4 14.25 14.52 14.98 14.27 14.87 15.88\n",
       "5 etudiant 5 13.55 13.54 12.57 12.87 13.47 13.94"
      ]
     },
     "metadata": {},
     "output_type": "display_data"
    }
   ],
   "source": [
    "names(data) <- c(\"Id_etu\", \"s1\", \"s2\", \"s3\", \"s4\", \"s5\", \"s6\") # On renommme les colonnes de `data`\n",
    "data"
   ]
  },
  {
   "cell_type": "code",
   "execution_count": 4,
   "id": "6f0be1fb-d0d5-47ee-9e37-e597c0ef1f15",
   "metadata": {},
   "outputs": [],
   "source": [
    "# On applique la régression linéaires sur les colonnes 2 à 6\n",
    "semestres <- 2:7"
   ]
  },
  {
   "cell_type": "markdown",
   "id": "19a526d6-af4d-4a64-a371-638986f7141e",
   "metadata": {},
   "source": [
    "## Explication de la régression linéaire\n",
    "\n",
    "Pour toutes données de type `data.frame`, on peut récupèrer les éléments avec la syntaxe suivante : \n",
    "\n",
    "```r\n",
    "data[1 ,] # on prend la première ligne\n",
    "\n",
    "data[, 1] # on prend la première colonne\n",
    "\n",
    "```\n"
   ]
  },
  {
   "cell_type": "code",
   "execution_count": 5,
   "id": "e0840201-de34-4405-8105-f294df53920e",
   "metadata": {},
   "outputs": [
    {
     "data": {
      "text/html": [
       "<table class=\"dataframe\">\n",
       "<caption>A tibble: 1 × 7</caption>\n",
       "<thead>\n",
       "\t<tr><th scope=col>Id_etu</th><th scope=col>s1</th><th scope=col>s2</th><th scope=col>s3</th><th scope=col>s4</th><th scope=col>s5</th><th scope=col>s6</th></tr>\n",
       "\t<tr><th scope=col>&lt;chr&gt;</th><th scope=col>&lt;dbl&gt;</th><th scope=col>&lt;dbl&gt;</th><th scope=col>&lt;dbl&gt;</th><th scope=col>&lt;dbl&gt;</th><th scope=col>&lt;dbl&gt;</th><th scope=col>&lt;dbl&gt;</th></tr>\n",
       "</thead>\n",
       "<tbody>\n",
       "\t<tr><td>etudiant 1</td><td>10.27</td><td>11.36</td><td>10.69</td><td>12.36</td><td>11.98</td><td>12.36</td></tr>\n",
       "</tbody>\n",
       "</table>\n"
      ],
      "text/latex": [
       "A tibble: 1 × 7\n",
       "\\begin{tabular}{lllllll}\n",
       " Id\\_etu & s1 & s2 & s3 & s4 & s5 & s6\\\\\n",
       " <chr> & <dbl> & <dbl> & <dbl> & <dbl> & <dbl> & <dbl>\\\\\n",
       "\\hline\n",
       "\t etudiant 1 & 10.27 & 11.36 & 10.69 & 12.36 & 11.98 & 12.36\\\\\n",
       "\\end{tabular}\n"
      ],
      "text/markdown": [
       "\n",
       "A tibble: 1 × 7\n",
       "\n",
       "| Id_etu &lt;chr&gt; | s1 &lt;dbl&gt; | s2 &lt;dbl&gt; | s3 &lt;dbl&gt; | s4 &lt;dbl&gt; | s5 &lt;dbl&gt; | s6 &lt;dbl&gt; |\n",
       "|---|---|---|---|---|---|---|\n",
       "| etudiant 1 | 10.27 | 11.36 | 10.69 | 12.36 | 11.98 | 12.36 |\n",
       "\n"
      ],
      "text/plain": [
       "  Id_etu     s1    s2    s3    s4    s5    s6   \n",
       "1 etudiant 1 10.27 11.36 10.69 12.36 11.98 12.36"
      ]
     },
     "metadata": {},
     "output_type": "display_data"
    }
   ],
   "source": [
    "data[1,]"
   ]
  },
  {
   "cell_type": "code",
   "execution_count": 6,
   "id": "286d77fb-99a1-4889-8a1e-5bddb630e846",
   "metadata": {},
   "outputs": [
    {
     "data": {
      "text/html": [
       "<table class=\"dataframe\">\n",
       "<caption>A tibble: 5 × 1</caption>\n",
       "<thead>\n",
       "\t<tr><th scope=col>Id_etu</th></tr>\n",
       "\t<tr><th scope=col>&lt;chr&gt;</th></tr>\n",
       "</thead>\n",
       "<tbody>\n",
       "\t<tr><td>etudiant 1</td></tr>\n",
       "\t<tr><td>etudiant 2</td></tr>\n",
       "\t<tr><td>etudiant 3</td></tr>\n",
       "\t<tr><td>etudiant 4</td></tr>\n",
       "\t<tr><td>etudiant 5</td></tr>\n",
       "</tbody>\n",
       "</table>\n"
      ],
      "text/latex": [
       "A tibble: 5 × 1\n",
       "\\begin{tabular}{l}\n",
       " Id\\_etu\\\\\n",
       " <chr>\\\\\n",
       "\\hline\n",
       "\t etudiant 1\\\\\n",
       "\t etudiant 2\\\\\n",
       "\t etudiant 3\\\\\n",
       "\t etudiant 4\\\\\n",
       "\t etudiant 5\\\\\n",
       "\\end{tabular}\n"
      ],
      "text/markdown": [
       "\n",
       "A tibble: 5 × 1\n",
       "\n",
       "| Id_etu &lt;chr&gt; |\n",
       "|---|\n",
       "| etudiant 1 |\n",
       "| etudiant 2 |\n",
       "| etudiant 3 |\n",
       "| etudiant 4 |\n",
       "| etudiant 5 |\n",
       "\n"
      ],
      "text/plain": [
       "  Id_etu    \n",
       "1 etudiant 1\n",
       "2 etudiant 2\n",
       "3 etudiant 3\n",
       "4 etudiant 4\n",
       "5 etudiant 5"
      ]
     },
     "metadata": {},
     "output_type": "display_data"
    }
   ],
   "source": [
    "data[,1]"
   ]
  },
  {
   "cell_type": "markdown",
   "id": "42a40796-ad27-491d-9c96-0350942e79a6",
   "metadata": {},
   "source": [
    "### La fonction `apply`\n",
    "\n",
    "`apply` permet d'appliquer une fonction sur chaque ligne ou chaque colonne d'un `data.frame`.\n",
    "\n",
    "- Le première argument `data[, semestres]` : on souhaite appliquer un régression linéaire avec les données des lignes de notes (donc d'indice de colonne 2 à 7; on exclut la première colonne avec le nom des étudiants). \n",
    "- `1` : indique qu'on applique la fonction par ligne\n",
    "\n",
    "```r\n",
    "function(x) { # applies over rows\n",
    "  model <- lm(x ~ semestres, data = data.frame(semestres, x))  # lm:Régression linéaire\n",
    "  predict(model, newdata = data.frame(semestres = 7))  # ax+b\n",
    "}\n",
    "```\n",
    "L'argument `x` correspond à une ligne du tableau.\n",
    "\n",
    "Pour chaque ligne, on fait une régression linéaire.\n",
    "\n"
   ]
  },
  {
   "cell_type": "code",
   "execution_count": 7,
   "id": "23fb5285-3909-4d98-b537-3f6089b81316",
   "metadata": {},
   "outputs": [
    {
     "data": {
      "text/html": [
       "<style>\n",
       ".list-inline {list-style: none; margin:0; padding: 0}\n",
       ".list-inline>li {display: inline-block}\n",
       ".list-inline>li:not(:last-child)::after {content: \"\\00b7\"; padding: 0 .5ex}\n",
       "</style>\n",
       "<ol class=list-inline><li>10.27</li><li>11.36</li><li>10.69</li><li>12.36</li><li>11.98</li><li>12.36</li></ol>\n"
      ],
      "text/latex": [
       "\\begin{enumerate*}\n",
       "\\item 10.27\n",
       "\\item 11.36\n",
       "\\item 10.69\n",
       "\\item 12.36\n",
       "\\item 11.98\n",
       "\\item 12.36\n",
       "\\end{enumerate*}\n"
      ],
      "text/markdown": [
       "1. 10.27\n",
       "2. 11.36\n",
       "3. 10.69\n",
       "4. 12.36\n",
       "5. 11.98\n",
       "6. 12.36\n",
       "\n",
       "\n"
      ],
      "text/plain": [
       "[1] 10.27 11.36 10.69 12.36 11.98 12.36"
      ]
     },
     "metadata": {},
     "output_type": "display_data"
    }
   ],
   "source": [
    "# Première ligne \n",
    "\n",
    "l1 <- as.numeric(data[1,2:7])\n",
    "l1"
   ]
  },
  {
   "cell_type": "code",
   "execution_count": 8,
   "id": "c097e912-8c8b-4209-ac10-7c3bb1a4db1b",
   "metadata": {},
   "outputs": [
    {
     "data": {
      "text/plain": [
       "\n",
       "Call:\n",
       "lm(formula = l1 ~ semestres, data = data.frame(semestres, data[1, \n",
       "    semestres]))\n",
       "\n",
       "Coefficients:\n",
       "(Intercept)    semestres  \n",
       "     9.7059       0.3994  \n"
      ]
     },
     "metadata": {},
     "output_type": "display_data"
    }
   ],
   "source": [
    "lm(l1 ~ semestres, data = data.frame(semestres, data[1,semestres]))"
   ]
  },
  {
   "cell_type": "markdown",
   "id": "fa56a60e-4825-47b4-9f48-c2f20404fb9b",
   "metadata": {},
   "source": [
    "## La fonction `predict`\n",
    "\n",
    "Dans `predict` on met le modèle en premier argument puis le deuxième argument donne le `x` pour lequel on emploue la drote de régression."
   ]
  },
  {
   "cell_type": "code",
   "execution_count": 9,
   "id": "a760effc-d6d1-4145-9f3f-f2f4984ead60",
   "metadata": {},
   "outputs": [
    {
     "data": {
      "text/html": [
       "<table class=\"dataframe\">\n",
       "<caption>A tibble: 5 × 8</caption>\n",
       "<thead>\n",
       "\t<tr><th scope=col>Id_etu</th><th scope=col>s1</th><th scope=col>s2</th><th scope=col>s3</th><th scope=col>s4</th><th scope=col>s5</th><th scope=col>s6</th><th scope=col>prediction_s7</th></tr>\n",
       "\t<tr><th scope=col>&lt;chr&gt;</th><th scope=col>&lt;dbl&gt;</th><th scope=col>&lt;dbl&gt;</th><th scope=col>&lt;dbl&gt;</th><th scope=col>&lt;dbl&gt;</th><th scope=col>&lt;dbl&gt;</th><th scope=col>&lt;dbl&gt;</th><th scope=col>&lt;dbl&gt;</th></tr>\n",
       "</thead>\n",
       "<tbody>\n",
       "\t<tr><td>etudiant 1</td><td>10.27</td><td>11.36</td><td>10.69</td><td>12.36</td><td>11.98</td><td>12.36</td><td>12.50190</td></tr>\n",
       "\t<tr><td>etudiant 2</td><td>12.24</td><td>13.36</td><td>13.25</td><td>13.66</td><td>14.69</td><td>14.98</td><td>14.98952</td></tr>\n",
       "\t<tr><td>etudiant 3</td><td> 9.40</td><td>10.36</td><td>11.36</td><td>11.65</td><td>12.53</td><td>11.67</td><td>12.45810</td></tr>\n",
       "\t<tr><td>etudiant 4</td><td>14.25</td><td>14.52</td><td>14.98</td><td>14.27</td><td>14.87</td><td>15.88</td><td>15.40143</td></tr>\n",
       "\t<tr><td>etudiant 5</td><td>13.55</td><td>13.54</td><td>12.57</td><td>12.87</td><td>13.47</td><td>13.94</td><td>13.46905</td></tr>\n",
       "</tbody>\n",
       "</table>\n"
      ],
      "text/latex": [
       "A tibble: 5 × 8\n",
       "\\begin{tabular}{llllllll}\n",
       " Id\\_etu & s1 & s2 & s3 & s4 & s5 & s6 & prediction\\_s7\\\\\n",
       " <chr> & <dbl> & <dbl> & <dbl> & <dbl> & <dbl> & <dbl> & <dbl>\\\\\n",
       "\\hline\n",
       "\t etudiant 1 & 10.27 & 11.36 & 10.69 & 12.36 & 11.98 & 12.36 & 12.50190\\\\\n",
       "\t etudiant 2 & 12.24 & 13.36 & 13.25 & 13.66 & 14.69 & 14.98 & 14.98952\\\\\n",
       "\t etudiant 3 &  9.40 & 10.36 & 11.36 & 11.65 & 12.53 & 11.67 & 12.45810\\\\\n",
       "\t etudiant 4 & 14.25 & 14.52 & 14.98 & 14.27 & 14.87 & 15.88 & 15.40143\\\\\n",
       "\t etudiant 5 & 13.55 & 13.54 & 12.57 & 12.87 & 13.47 & 13.94 & 13.46905\\\\\n",
       "\\end{tabular}\n"
      ],
      "text/markdown": [
       "\n",
       "A tibble: 5 × 8\n",
       "\n",
       "| Id_etu &lt;chr&gt; | s1 &lt;dbl&gt; | s2 &lt;dbl&gt; | s3 &lt;dbl&gt; | s4 &lt;dbl&gt; | s5 &lt;dbl&gt; | s6 &lt;dbl&gt; | prediction_s7 &lt;dbl&gt; |\n",
       "|---|---|---|---|---|---|---|---|\n",
       "| etudiant 1 | 10.27 | 11.36 | 10.69 | 12.36 | 11.98 | 12.36 | 12.50190 |\n",
       "| etudiant 2 | 12.24 | 13.36 | 13.25 | 13.66 | 14.69 | 14.98 | 14.98952 |\n",
       "| etudiant 3 |  9.40 | 10.36 | 11.36 | 11.65 | 12.53 | 11.67 | 12.45810 |\n",
       "| etudiant 4 | 14.25 | 14.52 | 14.98 | 14.27 | 14.87 | 15.88 | 15.40143 |\n",
       "| etudiant 5 | 13.55 | 13.54 | 12.57 | 12.87 | 13.47 | 13.94 | 13.46905 |\n",
       "\n"
      ],
      "text/plain": [
       "  Id_etu     s1    s2    s3    s4    s5    s6    prediction_s7\n",
       "1 etudiant 1 10.27 11.36 10.69 12.36 11.98 12.36 12.50190     \n",
       "2 etudiant 2 12.24 13.36 13.25 13.66 14.69 14.98 14.98952     \n",
       "3 etudiant 3  9.40 10.36 11.36 11.65 12.53 11.67 12.45810     \n",
       "4 etudiant 4 14.25 14.52 14.98 14.27 14.87 15.88 15.40143     \n",
       "5 etudiant 5 13.55 13.54 12.57 12.87 13.47 13.94 13.46905     "
      ]
     },
     "metadata": {},
     "output_type": "display_data"
    }
   ],
   "source": [
    "data$prediction_s7 <- apply(data[, semestres], 1, function(x) { # applies over rows\n",
    "  model <- lm(x ~ semestres, data = data.frame(semestres, x))  # lm:Régression linéaire\n",
    "  predict(model, newdata = data.frame(semestres = 7))  # ax+b\n",
    "})\n",
    "\n",
    "data\n"
   ]
  },
  {
   "cell_type": "code",
   "execution_count": 10,
   "id": "568b85b9-bbe0-4c5f-8aaf-101f2a90a27a",
   "metadata": {},
   "outputs": [
    {
     "data": {
      "text/html": [
       "<table class=\"dataframe\">\n",
       "<caption>A tibble: 5 × 8</caption>\n",
       "<thead>\n",
       "\t<tr><th scope=col>Id_etu</th><th scope=col>s1</th><th scope=col>s2</th><th scope=col>s3</th><th scope=col>s4</th><th scope=col>s5</th><th scope=col>s6</th><th scope=col>s7</th></tr>\n",
       "\t<tr><th scope=col>&lt;chr&gt;</th><th scope=col>&lt;dbl&gt;</th><th scope=col>&lt;dbl&gt;</th><th scope=col>&lt;dbl&gt;</th><th scope=col>&lt;dbl&gt;</th><th scope=col>&lt;dbl&gt;</th><th scope=col>&lt;dbl&gt;</th><th scope=col>&lt;dbl&gt;</th></tr>\n",
       "</thead>\n",
       "<tbody>\n",
       "\t<tr><td>etudiant 1</td><td>10.27</td><td>11.36</td><td>10.69</td><td>12.36</td><td>11.98</td><td>12.36</td><td>12.50190</td></tr>\n",
       "\t<tr><td>etudiant 2</td><td>12.24</td><td>13.36</td><td>13.25</td><td>13.66</td><td>14.69</td><td>14.98</td><td>14.98952</td></tr>\n",
       "\t<tr><td>etudiant 3</td><td> 9.40</td><td>10.36</td><td>11.36</td><td>11.65</td><td>12.53</td><td>11.67</td><td>12.45810</td></tr>\n",
       "\t<tr><td>etudiant 4</td><td>14.25</td><td>14.52</td><td>14.98</td><td>14.27</td><td>14.87</td><td>15.88</td><td>15.40143</td></tr>\n",
       "\t<tr><td>etudiant 5</td><td>13.55</td><td>13.54</td><td>12.57</td><td>12.87</td><td>13.47</td><td>13.94</td><td>13.46905</td></tr>\n",
       "</tbody>\n",
       "</table>\n"
      ],
      "text/latex": [
       "A tibble: 5 × 8\n",
       "\\begin{tabular}{llllllll}\n",
       " Id\\_etu & s1 & s2 & s3 & s4 & s5 & s6 & s7\\\\\n",
       " <chr> & <dbl> & <dbl> & <dbl> & <dbl> & <dbl> & <dbl> & <dbl>\\\\\n",
       "\\hline\n",
       "\t etudiant 1 & 10.27 & 11.36 & 10.69 & 12.36 & 11.98 & 12.36 & 12.50190\\\\\n",
       "\t etudiant 2 & 12.24 & 13.36 & 13.25 & 13.66 & 14.69 & 14.98 & 14.98952\\\\\n",
       "\t etudiant 3 &  9.40 & 10.36 & 11.36 & 11.65 & 12.53 & 11.67 & 12.45810\\\\\n",
       "\t etudiant 4 & 14.25 & 14.52 & 14.98 & 14.27 & 14.87 & 15.88 & 15.40143\\\\\n",
       "\t etudiant 5 & 13.55 & 13.54 & 12.57 & 12.87 & 13.47 & 13.94 & 13.46905\\\\\n",
       "\\end{tabular}\n"
      ],
      "text/markdown": [
       "\n",
       "A tibble: 5 × 8\n",
       "\n",
       "| Id_etu &lt;chr&gt; | s1 &lt;dbl&gt; | s2 &lt;dbl&gt; | s3 &lt;dbl&gt; | s4 &lt;dbl&gt; | s5 &lt;dbl&gt; | s6 &lt;dbl&gt; | s7 &lt;dbl&gt; |\n",
       "|---|---|---|---|---|---|---|---|\n",
       "| etudiant 1 | 10.27 | 11.36 | 10.69 | 12.36 | 11.98 | 12.36 | 12.50190 |\n",
       "| etudiant 2 | 12.24 | 13.36 | 13.25 | 13.66 | 14.69 | 14.98 | 14.98952 |\n",
       "| etudiant 3 |  9.40 | 10.36 | 11.36 | 11.65 | 12.53 | 11.67 | 12.45810 |\n",
       "| etudiant 4 | 14.25 | 14.52 | 14.98 | 14.27 | 14.87 | 15.88 | 15.40143 |\n",
       "| etudiant 5 | 13.55 | 13.54 | 12.57 | 12.87 | 13.47 | 13.94 | 13.46905 |\n",
       "\n"
      ],
      "text/plain": [
       "  Id_etu     s1    s2    s3    s4    s5    s6    s7      \n",
       "1 etudiant 1 10.27 11.36 10.69 12.36 11.98 12.36 12.50190\n",
       "2 etudiant 2 12.24 13.36 13.25 13.66 14.69 14.98 14.98952\n",
       "3 etudiant 3  9.40 10.36 11.36 11.65 12.53 11.67 12.45810\n",
       "4 etudiant 4 14.25 14.52 14.98 14.27 14.87 15.88 15.40143\n",
       "5 etudiant 5 13.55 13.54 12.57 12.87 13.47 13.94 13.46905"
      ]
     },
     "metadata": {},
     "output_type": "display_data"
    }
   ],
   "source": [
    "# Renommons la colonne 'prediction_s7'\n",
    "\n",
    "names(data) <- c(\"Id_etu\", \"s1\",\"s2\", \"s3\", \"s4\", \"s5\", \"s6\", \"s7\")\n",
    "data"
   ]
  },
  {
   "cell_type": "code",
   "execution_count": 11,
   "id": "9c7b66d7-f7b2-480f-a33a-105294c895d2",
   "metadata": {},
   "outputs": [
    {
     "name": "stderr",
     "output_type": "stream",
     "text": [
      "\n",
      "Attaching package: ‘reshape2’\n",
      "\n",
      "\n",
      "The following object is masked from ‘package:tidyr’:\n",
      "\n",
      "    smiths\n",
      "\n",
      "\n"
     ]
    }
   ],
   "source": [
    "library(reshape2)"
   ]
  },
  {
   "cell_type": "markdown",
   "id": "80376e13-5d94-48a3-a595-fa27e4851dee",
   "metadata": {},
   "source": [
    "## `data_long`\n",
    "\n",
    "Initialiement on a les données ci-dessus avec une ligne par étudiant. Pour `ggplot2` on doit dépivoter les données de façon à ce que une ligne du tableau correspond à la note d'un étudiant durant un semester (voir ci-dessous).  \n",
    "\n",
    "Avec la fonction `pivot_longer` (package `tidyr`), on donne en premier argument la `data.frame`, puis en deuxième argument les colonnes à dépivoter sous forme de vecteur, en troisième arguments les noms de colonnes pour les semestres et les notes respectivement.\n",
    "\n",
    "Avec la fonction `melt` (package `reshape`), on donne en premier argument la `data.frame`, puis la colonne identifiante (optionelle), en troisième les colonnes à dépivoter, ensuite le nom des colonnes.\n",
    "\n",
    "Les deux fonctions sont globalement équivalentes, et le choix va dépendre des bibliothèques que vous employez."
   ]
  },
  {
   "cell_type": "code",
   "execution_count": 17,
   "id": "522af054-b984-4971-9f49-3e5e80ddd8a6",
   "metadata": {
    "collapsed": true,
    "jupyter": {
     "outputs_hidden": true
    },
    "scrolled": true
   },
   "outputs": [
    {
     "data": {
      "text/html": [
       "<table class=\"dataframe\">\n",
       "<caption>A data.frame: 35 × 3</caption>\n",
       "<thead>\n",
       "\t<tr><th scope=col>Id_etu</th><th scope=col>variable</th><th scope=col>value</th></tr>\n",
       "\t<tr><th scope=col>&lt;chr&gt;</th><th scope=col>&lt;fct&gt;</th><th scope=col>&lt;dbl&gt;</th></tr>\n",
       "</thead>\n",
       "<tbody>\n",
       "\t<tr><td>etudiant 1</td><td>s1</td><td>10.27000</td></tr>\n",
       "\t<tr><td>etudiant 2</td><td>s1</td><td>12.24000</td></tr>\n",
       "\t<tr><td>etudiant 3</td><td>s1</td><td> 9.40000</td></tr>\n",
       "\t<tr><td>etudiant 4</td><td>s1</td><td>14.25000</td></tr>\n",
       "\t<tr><td>etudiant 5</td><td>s1</td><td>13.55000</td></tr>\n",
       "\t<tr><td>etudiant 1</td><td>s2</td><td>11.36000</td></tr>\n",
       "\t<tr><td>etudiant 2</td><td>s2</td><td>13.36000</td></tr>\n",
       "\t<tr><td>etudiant 3</td><td>s2</td><td>10.36000</td></tr>\n",
       "\t<tr><td>etudiant 4</td><td>s2</td><td>14.52000</td></tr>\n",
       "\t<tr><td>etudiant 5</td><td>s2</td><td>13.54000</td></tr>\n",
       "\t<tr><td>etudiant 1</td><td>s3</td><td>10.69000</td></tr>\n",
       "\t<tr><td>etudiant 2</td><td>s3</td><td>13.25000</td></tr>\n",
       "\t<tr><td>etudiant 3</td><td>s3</td><td>11.36000</td></tr>\n",
       "\t<tr><td>etudiant 4</td><td>s3</td><td>14.98000</td></tr>\n",
       "\t<tr><td>etudiant 5</td><td>s3</td><td>12.57000</td></tr>\n",
       "\t<tr><td>etudiant 1</td><td>s4</td><td>12.36000</td></tr>\n",
       "\t<tr><td>etudiant 2</td><td>s4</td><td>13.66000</td></tr>\n",
       "\t<tr><td>etudiant 3</td><td>s4</td><td>11.65000</td></tr>\n",
       "\t<tr><td>etudiant 4</td><td>s4</td><td>14.27000</td></tr>\n",
       "\t<tr><td>etudiant 5</td><td>s4</td><td>12.87000</td></tr>\n",
       "\t<tr><td>etudiant 1</td><td>s5</td><td>11.98000</td></tr>\n",
       "\t<tr><td>etudiant 2</td><td>s5</td><td>14.69000</td></tr>\n",
       "\t<tr><td>etudiant 3</td><td>s5</td><td>12.53000</td></tr>\n",
       "\t<tr><td>etudiant 4</td><td>s5</td><td>14.87000</td></tr>\n",
       "\t<tr><td>etudiant 5</td><td>s5</td><td>13.47000</td></tr>\n",
       "\t<tr><td>etudiant 1</td><td>s6</td><td>12.36000</td></tr>\n",
       "\t<tr><td>etudiant 2</td><td>s6</td><td>14.98000</td></tr>\n",
       "\t<tr><td>etudiant 3</td><td>s6</td><td>11.67000</td></tr>\n",
       "\t<tr><td>etudiant 4</td><td>s6</td><td>15.88000</td></tr>\n",
       "\t<tr><td>etudiant 5</td><td>s6</td><td>13.94000</td></tr>\n",
       "\t<tr><td>etudiant 1</td><td>s7</td><td>12.50190</td></tr>\n",
       "\t<tr><td>etudiant 2</td><td>s7</td><td>14.98952</td></tr>\n",
       "\t<tr><td>etudiant 3</td><td>s7</td><td>12.45810</td></tr>\n",
       "\t<tr><td>etudiant 4</td><td>s7</td><td>15.40143</td></tr>\n",
       "\t<tr><td>etudiant 5</td><td>s7</td><td>13.46905</td></tr>\n",
       "</tbody>\n",
       "</table>\n"
      ],
      "text/latex": [
       "A data.frame: 35 × 3\n",
       "\\begin{tabular}{lll}\n",
       " Id\\_etu & variable & value\\\\\n",
       " <chr> & <fct> & <dbl>\\\\\n",
       "\\hline\n",
       "\t etudiant 1 & s1 & 10.27000\\\\\n",
       "\t etudiant 2 & s1 & 12.24000\\\\\n",
       "\t etudiant 3 & s1 &  9.40000\\\\\n",
       "\t etudiant 4 & s1 & 14.25000\\\\\n",
       "\t etudiant 5 & s1 & 13.55000\\\\\n",
       "\t etudiant 1 & s2 & 11.36000\\\\\n",
       "\t etudiant 2 & s2 & 13.36000\\\\\n",
       "\t etudiant 3 & s2 & 10.36000\\\\\n",
       "\t etudiant 4 & s2 & 14.52000\\\\\n",
       "\t etudiant 5 & s2 & 13.54000\\\\\n",
       "\t etudiant 1 & s3 & 10.69000\\\\\n",
       "\t etudiant 2 & s3 & 13.25000\\\\\n",
       "\t etudiant 3 & s3 & 11.36000\\\\\n",
       "\t etudiant 4 & s3 & 14.98000\\\\\n",
       "\t etudiant 5 & s3 & 12.57000\\\\\n",
       "\t etudiant 1 & s4 & 12.36000\\\\\n",
       "\t etudiant 2 & s4 & 13.66000\\\\\n",
       "\t etudiant 3 & s4 & 11.65000\\\\\n",
       "\t etudiant 4 & s4 & 14.27000\\\\\n",
       "\t etudiant 5 & s4 & 12.87000\\\\\n",
       "\t etudiant 1 & s5 & 11.98000\\\\\n",
       "\t etudiant 2 & s5 & 14.69000\\\\\n",
       "\t etudiant 3 & s5 & 12.53000\\\\\n",
       "\t etudiant 4 & s5 & 14.87000\\\\\n",
       "\t etudiant 5 & s5 & 13.47000\\\\\n",
       "\t etudiant 1 & s6 & 12.36000\\\\\n",
       "\t etudiant 2 & s6 & 14.98000\\\\\n",
       "\t etudiant 3 & s6 & 11.67000\\\\\n",
       "\t etudiant 4 & s6 & 15.88000\\\\\n",
       "\t etudiant 5 & s6 & 13.94000\\\\\n",
       "\t etudiant 1 & s7 & 12.50190\\\\\n",
       "\t etudiant 2 & s7 & 14.98952\\\\\n",
       "\t etudiant 3 & s7 & 12.45810\\\\\n",
       "\t etudiant 4 & s7 & 15.40143\\\\\n",
       "\t etudiant 5 & s7 & 13.46905\\\\\n",
       "\\end{tabular}\n"
      ],
      "text/markdown": [
       "\n",
       "A data.frame: 35 × 3\n",
       "\n",
       "| Id_etu &lt;chr&gt; | variable &lt;fct&gt; | value &lt;dbl&gt; |\n",
       "|---|---|---|\n",
       "| etudiant 1 | s1 | 10.27000 |\n",
       "| etudiant 2 | s1 | 12.24000 |\n",
       "| etudiant 3 | s1 |  9.40000 |\n",
       "| etudiant 4 | s1 | 14.25000 |\n",
       "| etudiant 5 | s1 | 13.55000 |\n",
       "| etudiant 1 | s2 | 11.36000 |\n",
       "| etudiant 2 | s2 | 13.36000 |\n",
       "| etudiant 3 | s2 | 10.36000 |\n",
       "| etudiant 4 | s2 | 14.52000 |\n",
       "| etudiant 5 | s2 | 13.54000 |\n",
       "| etudiant 1 | s3 | 10.69000 |\n",
       "| etudiant 2 | s3 | 13.25000 |\n",
       "| etudiant 3 | s3 | 11.36000 |\n",
       "| etudiant 4 | s3 | 14.98000 |\n",
       "| etudiant 5 | s3 | 12.57000 |\n",
       "| etudiant 1 | s4 | 12.36000 |\n",
       "| etudiant 2 | s4 | 13.66000 |\n",
       "| etudiant 3 | s4 | 11.65000 |\n",
       "| etudiant 4 | s4 | 14.27000 |\n",
       "| etudiant 5 | s4 | 12.87000 |\n",
       "| etudiant 1 | s5 | 11.98000 |\n",
       "| etudiant 2 | s5 | 14.69000 |\n",
       "| etudiant 3 | s5 | 12.53000 |\n",
       "| etudiant 4 | s5 | 14.87000 |\n",
       "| etudiant 5 | s5 | 13.47000 |\n",
       "| etudiant 1 | s6 | 12.36000 |\n",
       "| etudiant 2 | s6 | 14.98000 |\n",
       "| etudiant 3 | s6 | 11.67000 |\n",
       "| etudiant 4 | s6 | 15.88000 |\n",
       "| etudiant 5 | s6 | 13.94000 |\n",
       "| etudiant 1 | s7 | 12.50190 |\n",
       "| etudiant 2 | s7 | 14.98952 |\n",
       "| etudiant 3 | s7 | 12.45810 |\n",
       "| etudiant 4 | s7 | 15.40143 |\n",
       "| etudiant 5 | s7 | 13.46905 |\n",
       "\n"
      ],
      "text/plain": [
       "   Id_etu     variable value   \n",
       "1  etudiant 1 s1       10.27000\n",
       "2  etudiant 2 s1       12.24000\n",
       "3  etudiant 3 s1        9.40000\n",
       "4  etudiant 4 s1       14.25000\n",
       "5  etudiant 5 s1       13.55000\n",
       "6  etudiant 1 s2       11.36000\n",
       "7  etudiant 2 s2       13.36000\n",
       "8  etudiant 3 s2       10.36000\n",
       "9  etudiant 4 s2       14.52000\n",
       "10 etudiant 5 s2       13.54000\n",
       "11 etudiant 1 s3       10.69000\n",
       "12 etudiant 2 s3       13.25000\n",
       "13 etudiant 3 s3       11.36000\n",
       "14 etudiant 4 s3       14.98000\n",
       "15 etudiant 5 s3       12.57000\n",
       "16 etudiant 1 s4       12.36000\n",
       "17 etudiant 2 s4       13.66000\n",
       "18 etudiant 3 s4       11.65000\n",
       "19 etudiant 4 s4       14.27000\n",
       "20 etudiant 5 s4       12.87000\n",
       "21 etudiant 1 s5       11.98000\n",
       "22 etudiant 2 s5       14.69000\n",
       "23 etudiant 3 s5       12.53000\n",
       "24 etudiant 4 s5       14.87000\n",
       "25 etudiant 5 s5       13.47000\n",
       "26 etudiant 1 s6       12.36000\n",
       "27 etudiant 2 s6       14.98000\n",
       "28 etudiant 3 s6       11.67000\n",
       "29 etudiant 4 s6       15.88000\n",
       "30 etudiant 5 s6       13.94000\n",
       "31 etudiant 1 s7       12.50190\n",
       "32 etudiant 2 s7       14.98952\n",
       "33 etudiant 3 s7       12.45810\n",
       "34 etudiant 4 s7       15.40143\n",
       "35 etudiant 5 s7       13.46905"
      ]
     },
     "metadata": {},
     "output_type": "display_data"
    }
   ],
   "source": [
    "melt(data,  measure.vars = c(\"s1\",\"s2\", \"s3\", \"s4\", \"s5\", \"s6\", \"s7\"), variable.name = \"variable\", value.name = \"value\" )"
   ]
  },
  {
   "cell_type": "code",
   "execution_count": 12,
   "id": "3818cc58-43e0-429f-b197-be7fda9039f3",
   "metadata": {},
   "outputs": [
    {
     "data": {
      "text/html": [
       "<table class=\"dataframe\">\n",
       "<caption>A data.frame: 35 × 3</caption>\n",
       "<thead>\n",
       "\t<tr><th scope=col>Id_etu</th><th scope=col>variable</th><th scope=col>value</th></tr>\n",
       "\t<tr><th scope=col>&lt;chr&gt;</th><th scope=col>&lt;fct&gt;</th><th scope=col>&lt;dbl&gt;</th></tr>\n",
       "</thead>\n",
       "<tbody>\n",
       "\t<tr><td>etudiant 1</td><td>s1</td><td>10.27000</td></tr>\n",
       "\t<tr><td>etudiant 2</td><td>s1</td><td>12.24000</td></tr>\n",
       "\t<tr><td>etudiant 3</td><td>s1</td><td> 9.40000</td></tr>\n",
       "\t<tr><td>etudiant 4</td><td>s1</td><td>14.25000</td></tr>\n",
       "\t<tr><td>etudiant 5</td><td>s1</td><td>13.55000</td></tr>\n",
       "\t<tr><td>etudiant 1</td><td>s2</td><td>11.36000</td></tr>\n",
       "\t<tr><td>etudiant 2</td><td>s2</td><td>13.36000</td></tr>\n",
       "\t<tr><td>etudiant 3</td><td>s2</td><td>10.36000</td></tr>\n",
       "\t<tr><td>etudiant 4</td><td>s2</td><td>14.52000</td></tr>\n",
       "\t<tr><td>etudiant 5</td><td>s2</td><td>13.54000</td></tr>\n",
       "\t<tr><td>etudiant 1</td><td>s3</td><td>10.69000</td></tr>\n",
       "\t<tr><td>etudiant 2</td><td>s3</td><td>13.25000</td></tr>\n",
       "\t<tr><td>etudiant 3</td><td>s3</td><td>11.36000</td></tr>\n",
       "\t<tr><td>etudiant 4</td><td>s3</td><td>14.98000</td></tr>\n",
       "\t<tr><td>etudiant 5</td><td>s3</td><td>12.57000</td></tr>\n",
       "\t<tr><td>etudiant 1</td><td>s4</td><td>12.36000</td></tr>\n",
       "\t<tr><td>etudiant 2</td><td>s4</td><td>13.66000</td></tr>\n",
       "\t<tr><td>etudiant 3</td><td>s4</td><td>11.65000</td></tr>\n",
       "\t<tr><td>etudiant 4</td><td>s4</td><td>14.27000</td></tr>\n",
       "\t<tr><td>etudiant 5</td><td>s4</td><td>12.87000</td></tr>\n",
       "\t<tr><td>etudiant 1</td><td>s5</td><td>11.98000</td></tr>\n",
       "\t<tr><td>etudiant 2</td><td>s5</td><td>14.69000</td></tr>\n",
       "\t<tr><td>etudiant 3</td><td>s5</td><td>12.53000</td></tr>\n",
       "\t<tr><td>etudiant 4</td><td>s5</td><td>14.87000</td></tr>\n",
       "\t<tr><td>etudiant 5</td><td>s5</td><td>13.47000</td></tr>\n",
       "\t<tr><td>etudiant 1</td><td>s6</td><td>12.36000</td></tr>\n",
       "\t<tr><td>etudiant 2</td><td>s6</td><td>14.98000</td></tr>\n",
       "\t<tr><td>etudiant 3</td><td>s6</td><td>11.67000</td></tr>\n",
       "\t<tr><td>etudiant 4</td><td>s6</td><td>15.88000</td></tr>\n",
       "\t<tr><td>etudiant 5</td><td>s6</td><td>13.94000</td></tr>\n",
       "\t<tr><td>etudiant 1</td><td>s7</td><td>12.50190</td></tr>\n",
       "\t<tr><td>etudiant 2</td><td>s7</td><td>14.98952</td></tr>\n",
       "\t<tr><td>etudiant 3</td><td>s7</td><td>12.45810</td></tr>\n",
       "\t<tr><td>etudiant 4</td><td>s7</td><td>15.40143</td></tr>\n",
       "\t<tr><td>etudiant 5</td><td>s7</td><td>13.46905</td></tr>\n",
       "</tbody>\n",
       "</table>\n"
      ],
      "text/latex": [
       "A data.frame: 35 × 3\n",
       "\\begin{tabular}{lll}\n",
       " Id\\_etu & variable & value\\\\\n",
       " <chr> & <fct> & <dbl>\\\\\n",
       "\\hline\n",
       "\t etudiant 1 & s1 & 10.27000\\\\\n",
       "\t etudiant 2 & s1 & 12.24000\\\\\n",
       "\t etudiant 3 & s1 &  9.40000\\\\\n",
       "\t etudiant 4 & s1 & 14.25000\\\\\n",
       "\t etudiant 5 & s1 & 13.55000\\\\\n",
       "\t etudiant 1 & s2 & 11.36000\\\\\n",
       "\t etudiant 2 & s2 & 13.36000\\\\\n",
       "\t etudiant 3 & s2 & 10.36000\\\\\n",
       "\t etudiant 4 & s2 & 14.52000\\\\\n",
       "\t etudiant 5 & s2 & 13.54000\\\\\n",
       "\t etudiant 1 & s3 & 10.69000\\\\\n",
       "\t etudiant 2 & s3 & 13.25000\\\\\n",
       "\t etudiant 3 & s3 & 11.36000\\\\\n",
       "\t etudiant 4 & s3 & 14.98000\\\\\n",
       "\t etudiant 5 & s3 & 12.57000\\\\\n",
       "\t etudiant 1 & s4 & 12.36000\\\\\n",
       "\t etudiant 2 & s4 & 13.66000\\\\\n",
       "\t etudiant 3 & s4 & 11.65000\\\\\n",
       "\t etudiant 4 & s4 & 14.27000\\\\\n",
       "\t etudiant 5 & s4 & 12.87000\\\\\n",
       "\t etudiant 1 & s5 & 11.98000\\\\\n",
       "\t etudiant 2 & s5 & 14.69000\\\\\n",
       "\t etudiant 3 & s5 & 12.53000\\\\\n",
       "\t etudiant 4 & s5 & 14.87000\\\\\n",
       "\t etudiant 5 & s5 & 13.47000\\\\\n",
       "\t etudiant 1 & s6 & 12.36000\\\\\n",
       "\t etudiant 2 & s6 & 14.98000\\\\\n",
       "\t etudiant 3 & s6 & 11.67000\\\\\n",
       "\t etudiant 4 & s6 & 15.88000\\\\\n",
       "\t etudiant 5 & s6 & 13.94000\\\\\n",
       "\t etudiant 1 & s7 & 12.50190\\\\\n",
       "\t etudiant 2 & s7 & 14.98952\\\\\n",
       "\t etudiant 3 & s7 & 12.45810\\\\\n",
       "\t etudiant 4 & s7 & 15.40143\\\\\n",
       "\t etudiant 5 & s7 & 13.46905\\\\\n",
       "\\end{tabular}\n"
      ],
      "text/markdown": [
       "\n",
       "A data.frame: 35 × 3\n",
       "\n",
       "| Id_etu &lt;chr&gt; | variable &lt;fct&gt; | value &lt;dbl&gt; |\n",
       "|---|---|---|\n",
       "| etudiant 1 | s1 | 10.27000 |\n",
       "| etudiant 2 | s1 | 12.24000 |\n",
       "| etudiant 3 | s1 |  9.40000 |\n",
       "| etudiant 4 | s1 | 14.25000 |\n",
       "| etudiant 5 | s1 | 13.55000 |\n",
       "| etudiant 1 | s2 | 11.36000 |\n",
       "| etudiant 2 | s2 | 13.36000 |\n",
       "| etudiant 3 | s2 | 10.36000 |\n",
       "| etudiant 4 | s2 | 14.52000 |\n",
       "| etudiant 5 | s2 | 13.54000 |\n",
       "| etudiant 1 | s3 | 10.69000 |\n",
       "| etudiant 2 | s3 | 13.25000 |\n",
       "| etudiant 3 | s3 | 11.36000 |\n",
       "| etudiant 4 | s3 | 14.98000 |\n",
       "| etudiant 5 | s3 | 12.57000 |\n",
       "| etudiant 1 | s4 | 12.36000 |\n",
       "| etudiant 2 | s4 | 13.66000 |\n",
       "| etudiant 3 | s4 | 11.65000 |\n",
       "| etudiant 4 | s4 | 14.27000 |\n",
       "| etudiant 5 | s4 | 12.87000 |\n",
       "| etudiant 1 | s5 | 11.98000 |\n",
       "| etudiant 2 | s5 | 14.69000 |\n",
       "| etudiant 3 | s5 | 12.53000 |\n",
       "| etudiant 4 | s5 | 14.87000 |\n",
       "| etudiant 5 | s5 | 13.47000 |\n",
       "| etudiant 1 | s6 | 12.36000 |\n",
       "| etudiant 2 | s6 | 14.98000 |\n",
       "| etudiant 3 | s6 | 11.67000 |\n",
       "| etudiant 4 | s6 | 15.88000 |\n",
       "| etudiant 5 | s6 | 13.94000 |\n",
       "| etudiant 1 | s7 | 12.50190 |\n",
       "| etudiant 2 | s7 | 14.98952 |\n",
       "| etudiant 3 | s7 | 12.45810 |\n",
       "| etudiant 4 | s7 | 15.40143 |\n",
       "| etudiant 5 | s7 | 13.46905 |\n",
       "\n"
      ],
      "text/plain": [
       "   Id_etu     variable value   \n",
       "1  etudiant 1 s1       10.27000\n",
       "2  etudiant 2 s1       12.24000\n",
       "3  etudiant 3 s1        9.40000\n",
       "4  etudiant 4 s1       14.25000\n",
       "5  etudiant 5 s1       13.55000\n",
       "6  etudiant 1 s2       11.36000\n",
       "7  etudiant 2 s2       13.36000\n",
       "8  etudiant 3 s2       10.36000\n",
       "9  etudiant 4 s2       14.52000\n",
       "10 etudiant 5 s2       13.54000\n",
       "11 etudiant 1 s3       10.69000\n",
       "12 etudiant 2 s3       13.25000\n",
       "13 etudiant 3 s3       11.36000\n",
       "14 etudiant 4 s3       14.98000\n",
       "15 etudiant 5 s3       12.57000\n",
       "16 etudiant 1 s4       12.36000\n",
       "17 etudiant 2 s4       13.66000\n",
       "18 etudiant 3 s4       11.65000\n",
       "19 etudiant 4 s4       14.27000\n",
       "20 etudiant 5 s4       12.87000\n",
       "21 etudiant 1 s5       11.98000\n",
       "22 etudiant 2 s5       14.69000\n",
       "23 etudiant 3 s5       12.53000\n",
       "24 etudiant 4 s5       14.87000\n",
       "25 etudiant 5 s5       13.47000\n",
       "26 etudiant 1 s6       12.36000\n",
       "27 etudiant 2 s6       14.98000\n",
       "28 etudiant 3 s6       11.67000\n",
       "29 etudiant 4 s6       15.88000\n",
       "30 etudiant 5 s6       13.94000\n",
       "31 etudiant 1 s7       12.50190\n",
       "32 etudiant 2 s7       14.98952\n",
       "33 etudiant 3 s7       12.45810\n",
       "34 etudiant 4 s7       15.40143\n",
       "35 etudiant 5 s7       13.46905"
      ]
     },
     "metadata": {},
     "output_type": "display_data"
    }
   ],
   "source": [
    "melt(data, id.vars = \"Id_etu\", measure.vars = c(\"s1\",\"s2\", \"s3\", \"s4\", \"s5\", \"s6\", \"s7\"), variable.name = \"variable\", value.name = \"value\" )"
   ]
  },
  {
   "cell_type": "code",
   "execution_count": 13,
   "id": "f6ff1552-afb5-4cb5-9923-854569b9004d",
   "metadata": {},
   "outputs": [
    {
     "data": {
      "text/html": [
       "<table class=\"dataframe\">\n",
       "<caption>A tibble: 35 × 3</caption>\n",
       "<thead>\n",
       "\t<tr><th scope=col>Id_etu</th><th scope=col>variable</th><th scope=col>value</th></tr>\n",
       "\t<tr><th scope=col>&lt;chr&gt;</th><th scope=col>&lt;chr&gt;</th><th scope=col>&lt;dbl&gt;</th></tr>\n",
       "</thead>\n",
       "<tbody>\n",
       "\t<tr><td>etudiant 1</td><td>s1</td><td>10.27000</td></tr>\n",
       "\t<tr><td>etudiant 1</td><td>s2</td><td>11.36000</td></tr>\n",
       "\t<tr><td>etudiant 1</td><td>s3</td><td>10.69000</td></tr>\n",
       "\t<tr><td>etudiant 1</td><td>s4</td><td>12.36000</td></tr>\n",
       "\t<tr><td>etudiant 1</td><td>s5</td><td>11.98000</td></tr>\n",
       "\t<tr><td>etudiant 1</td><td>s6</td><td>12.36000</td></tr>\n",
       "\t<tr><td>etudiant 1</td><td>s7</td><td>12.50190</td></tr>\n",
       "\t<tr><td>etudiant 2</td><td>s1</td><td>12.24000</td></tr>\n",
       "\t<tr><td>etudiant 2</td><td>s2</td><td>13.36000</td></tr>\n",
       "\t<tr><td>etudiant 2</td><td>s3</td><td>13.25000</td></tr>\n",
       "\t<tr><td>etudiant 2</td><td>s4</td><td>13.66000</td></tr>\n",
       "\t<tr><td>etudiant 2</td><td>s5</td><td>14.69000</td></tr>\n",
       "\t<tr><td>etudiant 2</td><td>s6</td><td>14.98000</td></tr>\n",
       "\t<tr><td>etudiant 2</td><td>s7</td><td>14.98952</td></tr>\n",
       "\t<tr><td>etudiant 3</td><td>s1</td><td> 9.40000</td></tr>\n",
       "\t<tr><td>etudiant 3</td><td>s2</td><td>10.36000</td></tr>\n",
       "\t<tr><td>etudiant 3</td><td>s3</td><td>11.36000</td></tr>\n",
       "\t<tr><td>etudiant 3</td><td>s4</td><td>11.65000</td></tr>\n",
       "\t<tr><td>etudiant 3</td><td>s5</td><td>12.53000</td></tr>\n",
       "\t<tr><td>etudiant 3</td><td>s6</td><td>11.67000</td></tr>\n",
       "\t<tr><td>etudiant 3</td><td>s7</td><td>12.45810</td></tr>\n",
       "\t<tr><td>etudiant 4</td><td>s1</td><td>14.25000</td></tr>\n",
       "\t<tr><td>etudiant 4</td><td>s2</td><td>14.52000</td></tr>\n",
       "\t<tr><td>etudiant 4</td><td>s3</td><td>14.98000</td></tr>\n",
       "\t<tr><td>etudiant 4</td><td>s4</td><td>14.27000</td></tr>\n",
       "\t<tr><td>etudiant 4</td><td>s5</td><td>14.87000</td></tr>\n",
       "\t<tr><td>etudiant 4</td><td>s6</td><td>15.88000</td></tr>\n",
       "\t<tr><td>etudiant 4</td><td>s7</td><td>15.40143</td></tr>\n",
       "\t<tr><td>etudiant 5</td><td>s1</td><td>13.55000</td></tr>\n",
       "\t<tr><td>etudiant 5</td><td>s2</td><td>13.54000</td></tr>\n",
       "\t<tr><td>etudiant 5</td><td>s3</td><td>12.57000</td></tr>\n",
       "\t<tr><td>etudiant 5</td><td>s4</td><td>12.87000</td></tr>\n",
       "\t<tr><td>etudiant 5</td><td>s5</td><td>13.47000</td></tr>\n",
       "\t<tr><td>etudiant 5</td><td>s6</td><td>13.94000</td></tr>\n",
       "\t<tr><td>etudiant 5</td><td>s7</td><td>13.46905</td></tr>\n",
       "</tbody>\n",
       "</table>\n"
      ],
      "text/latex": [
       "A tibble: 35 × 3\n",
       "\\begin{tabular}{lll}\n",
       " Id\\_etu & variable & value\\\\\n",
       " <chr> & <chr> & <dbl>\\\\\n",
       "\\hline\n",
       "\t etudiant 1 & s1 & 10.27000\\\\\n",
       "\t etudiant 1 & s2 & 11.36000\\\\\n",
       "\t etudiant 1 & s3 & 10.69000\\\\\n",
       "\t etudiant 1 & s4 & 12.36000\\\\\n",
       "\t etudiant 1 & s5 & 11.98000\\\\\n",
       "\t etudiant 1 & s6 & 12.36000\\\\\n",
       "\t etudiant 1 & s7 & 12.50190\\\\\n",
       "\t etudiant 2 & s1 & 12.24000\\\\\n",
       "\t etudiant 2 & s2 & 13.36000\\\\\n",
       "\t etudiant 2 & s3 & 13.25000\\\\\n",
       "\t etudiant 2 & s4 & 13.66000\\\\\n",
       "\t etudiant 2 & s5 & 14.69000\\\\\n",
       "\t etudiant 2 & s6 & 14.98000\\\\\n",
       "\t etudiant 2 & s7 & 14.98952\\\\\n",
       "\t etudiant 3 & s1 &  9.40000\\\\\n",
       "\t etudiant 3 & s2 & 10.36000\\\\\n",
       "\t etudiant 3 & s3 & 11.36000\\\\\n",
       "\t etudiant 3 & s4 & 11.65000\\\\\n",
       "\t etudiant 3 & s5 & 12.53000\\\\\n",
       "\t etudiant 3 & s6 & 11.67000\\\\\n",
       "\t etudiant 3 & s7 & 12.45810\\\\\n",
       "\t etudiant 4 & s1 & 14.25000\\\\\n",
       "\t etudiant 4 & s2 & 14.52000\\\\\n",
       "\t etudiant 4 & s3 & 14.98000\\\\\n",
       "\t etudiant 4 & s4 & 14.27000\\\\\n",
       "\t etudiant 4 & s5 & 14.87000\\\\\n",
       "\t etudiant 4 & s6 & 15.88000\\\\\n",
       "\t etudiant 4 & s7 & 15.40143\\\\\n",
       "\t etudiant 5 & s1 & 13.55000\\\\\n",
       "\t etudiant 5 & s2 & 13.54000\\\\\n",
       "\t etudiant 5 & s3 & 12.57000\\\\\n",
       "\t etudiant 5 & s4 & 12.87000\\\\\n",
       "\t etudiant 5 & s5 & 13.47000\\\\\n",
       "\t etudiant 5 & s6 & 13.94000\\\\\n",
       "\t etudiant 5 & s7 & 13.46905\\\\\n",
       "\\end{tabular}\n"
      ],
      "text/markdown": [
       "\n",
       "A tibble: 35 × 3\n",
       "\n",
       "| Id_etu &lt;chr&gt; | variable &lt;chr&gt; | value &lt;dbl&gt; |\n",
       "|---|---|---|\n",
       "| etudiant 1 | s1 | 10.27000 |\n",
       "| etudiant 1 | s2 | 11.36000 |\n",
       "| etudiant 1 | s3 | 10.69000 |\n",
       "| etudiant 1 | s4 | 12.36000 |\n",
       "| etudiant 1 | s5 | 11.98000 |\n",
       "| etudiant 1 | s6 | 12.36000 |\n",
       "| etudiant 1 | s7 | 12.50190 |\n",
       "| etudiant 2 | s1 | 12.24000 |\n",
       "| etudiant 2 | s2 | 13.36000 |\n",
       "| etudiant 2 | s3 | 13.25000 |\n",
       "| etudiant 2 | s4 | 13.66000 |\n",
       "| etudiant 2 | s5 | 14.69000 |\n",
       "| etudiant 2 | s6 | 14.98000 |\n",
       "| etudiant 2 | s7 | 14.98952 |\n",
       "| etudiant 3 | s1 |  9.40000 |\n",
       "| etudiant 3 | s2 | 10.36000 |\n",
       "| etudiant 3 | s3 | 11.36000 |\n",
       "| etudiant 3 | s4 | 11.65000 |\n",
       "| etudiant 3 | s5 | 12.53000 |\n",
       "| etudiant 3 | s6 | 11.67000 |\n",
       "| etudiant 3 | s7 | 12.45810 |\n",
       "| etudiant 4 | s1 | 14.25000 |\n",
       "| etudiant 4 | s2 | 14.52000 |\n",
       "| etudiant 4 | s3 | 14.98000 |\n",
       "| etudiant 4 | s4 | 14.27000 |\n",
       "| etudiant 4 | s5 | 14.87000 |\n",
       "| etudiant 4 | s6 | 15.88000 |\n",
       "| etudiant 4 | s7 | 15.40143 |\n",
       "| etudiant 5 | s1 | 13.55000 |\n",
       "| etudiant 5 | s2 | 13.54000 |\n",
       "| etudiant 5 | s3 | 12.57000 |\n",
       "| etudiant 5 | s4 | 12.87000 |\n",
       "| etudiant 5 | s5 | 13.47000 |\n",
       "| etudiant 5 | s6 | 13.94000 |\n",
       "| etudiant 5 | s7 | 13.46905 |\n",
       "\n"
      ],
      "text/plain": [
       "   Id_etu     variable value   \n",
       "1  etudiant 1 s1       10.27000\n",
       "2  etudiant 1 s2       11.36000\n",
       "3  etudiant 1 s3       10.69000\n",
       "4  etudiant 1 s4       12.36000\n",
       "5  etudiant 1 s5       11.98000\n",
       "6  etudiant 1 s6       12.36000\n",
       "7  etudiant 1 s7       12.50190\n",
       "8  etudiant 2 s1       12.24000\n",
       "9  etudiant 2 s2       13.36000\n",
       "10 etudiant 2 s3       13.25000\n",
       "11 etudiant 2 s4       13.66000\n",
       "12 etudiant 2 s5       14.69000\n",
       "13 etudiant 2 s6       14.98000\n",
       "14 etudiant 2 s7       14.98952\n",
       "15 etudiant 3 s1        9.40000\n",
       "16 etudiant 3 s2       10.36000\n",
       "17 etudiant 3 s3       11.36000\n",
       "18 etudiant 3 s4       11.65000\n",
       "19 etudiant 3 s5       12.53000\n",
       "20 etudiant 3 s6       11.67000\n",
       "21 etudiant 3 s7       12.45810\n",
       "22 etudiant 4 s1       14.25000\n",
       "23 etudiant 4 s2       14.52000\n",
       "24 etudiant 4 s3       14.98000\n",
       "25 etudiant 4 s4       14.27000\n",
       "26 etudiant 4 s5       14.87000\n",
       "27 etudiant 4 s6       15.88000\n",
       "28 etudiant 4 s7       15.40143\n",
       "29 etudiant 5 s1       13.55000\n",
       "30 etudiant 5 s2       13.54000\n",
       "31 etudiant 5 s3       12.57000\n",
       "32 etudiant 5 s4       12.87000\n",
       "33 etudiant 5 s5       13.47000\n",
       "34 etudiant 5 s6       13.94000\n",
       "35 etudiant 5 s7       13.46905"
      ]
     },
     "metadata": {},
     "output_type": "display_data"
    }
   ],
   "source": [
    "# Ajouter les prévisions au dataframe\n",
    "predictions <- data.frame(Id_etu = data$Id_etu, variable = \"s7\", value = data$s7)\n",
    "data_long <- data |> \n",
    "pivot_longer(cols = c(\"s1\",\"s2\", \"s3\", \"s4\", \"s5\", \"s6\", \"s7\"), names_to = \"variable\", values_to = \"value\")\n",
    "data_long"
   ]
  },
  {
   "cell_type": "markdown",
   "id": "cf661179-5ead-40e6-9d4c-8d9b017b6b1c",
   "metadata": {},
   "source": [
    "## `ggplot`\n",
    "\n",
    "On prend `variable` en abscisse (les semestres) et `value` en ordonnée (les notes)\n",
    "\n",
    "`as.factor` indique que la colonne doit être interprêtée comme une catégorie.\n"
   ]
  },
  {
   "cell_type": "code",
   "execution_count": 14,
   "id": "75654402-84ab-44f4-985f-fb0856db33df",
   "metadata": {},
   "outputs": [
    {
     "data": {
      "image/png": "[encoded data removed]",
      "text/plain": [
       "plot without title"
      ]
     },
     "metadata": {
      "image/png": {
       "height": 420,
       "width": 420
      }
     },
     "output_type": "display_data"
    }
   ],
   "source": [
    "# Graphique\n",
    "ggplot() +\n",
    "  geom_line(data = data_long, aes(x = variable, y = value, group = Id_etu, color = as.factor(Id_etu))) +\n",
    "  geom_point(data = data_long, aes(x = variable, y = value, color = as.factor(Id_etu))) +\n",
    "  geom_point(data = predictions, aes(x = variable, y = value, color = as.factor(Id_etu)), shape = 17, size = 4) +  #  Triangle pour prévision\n",
    "  theme_minimal() +\n",
    "  labs(title = \"Évolution des moyennes avec prévisions\", x = \"Semestre\", y = \"Moyenne\", color = \"Étudiant\")\n",
    "\n"
   ]
  },
  {
   "cell_type": "markdown",
   "id": "0fee3485-f128-4dd6-8c31-8a1d19e953b8",
   "metadata": {},
   "source": [
    "## Références \n",
    "\n",
    "\n",
    "- Barnier, J. (2020). [*Introduction à R et au tidyverse*](https://juba.github.io/tidyverse/04-bivarie.html#r%C3%A9gression-lin%C3%A9aire).\n",
    "- Divers (2023). [Série d’ateliers R du CSBQ](https://r.qcbs.ca/workshop04/book-fr/r%C3%A9gression-lin%C3%A9aire-avec-r.html).\n",
    "- Lamrange, J. (2025). [Guide pour l’analyse de données d’enquêtes avec R](https://larmarange.github.io/guide-R/analyses/regression-lineaire.html)."
   ]
  }
 ],
 "metadata": {
  "kernelspec": {
   "display_name": "R",
   "language": "R",
   "name": "ir"
  },
  "language_info": {
   "codemirror_mode": "r",
   "file_extension": ".r",
   "mimetype": "text/x-r-source",
   "name": "R",
   "pygments_lexer": "r",
   "version": "4.4.3"
  }
 },
 "nbformat": 4,
 "nbformat_minor": 5
}
